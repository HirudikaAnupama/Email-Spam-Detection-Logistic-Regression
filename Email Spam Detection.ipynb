{
 "cells": [
  {
   "metadata": {},
   "cell_type": "markdown",
   "source": "## Import necessary libraries",
   "id": "53226155d945276f"
  },
  {
   "cell_type": "code",
   "id": "initial_id",
   "metadata": {
    "collapsed": true,
    "ExecuteTime": {
     "end_time": "2024-07-26T20:32:30.456897Z",
     "start_time": "2024-07-26T20:32:30.440747Z"
    }
   },
   "source": [
    "import pandas as pd\n",
    "import matplotlib.pyplot as plt\n",
    "import seaborn as sns\n",
    "from sklearn.feature_extraction.text import TfidfVectorizer\n",
    "from sklearn.model_selection import train_test_split\n",
    "from sklearn.linear_model import LogisticRegression\n",
    "from sklearn.metrics import classification_report, accuracy_score, confusion_matrix\n",
    "from imblearn.over_sampling import SMOTE\n",
    "from sklearn.metrics import roc_curve, roc_auc_score"
   ],
   "outputs": [],
   "execution_count": 10
  },
  {
   "metadata": {},
   "cell_type": "markdown",
   "source": [
    "## Collect data and load them\n",
    "##### First we need to collect the relevant data according to our problem.\n",
    "##### It means that we need to collect relevant (independent) data for (dependent) features to make predictions.\n",
    "##### We can visualize data as well."
   ],
   "id": "7199ee739c44c0bf"
  },
  {
   "metadata": {
    "ExecuteTime": {
     "end_time": "2024-07-26T20:21:14.920434Z",
     "start_time": "2024-07-26T20:21:14.542662Z"
    }
   },
   "cell_type": "code",
   "source": "data = pd.read_csv(\"emails.csv\")",
   "id": "10c8e0bf1feaa65f",
   "outputs": [],
   "execution_count": 4
  },
  {
   "metadata": {
    "ExecuteTime": {
     "end_time": "2024-07-26T20:21:14.966756Z",
     "start_time": "2024-07-26T20:21:14.942864Z"
    }
   },
   "cell_type": "code",
   "source": "data.head()    # Print first 5 rows",
   "id": "3c3fdb28dba9c92d",
   "outputs": [
    {
     "data": {
      "text/plain": [
       "                                                text  spam\n",
       "0  Subject: naturally irresistible your corporate...     1\n",
       "1  Subject: the stock trading gunslinger  fanny i...     1\n",
       "2  Subject: unbelievable new homes made easy  im ...     1\n",
       "3  Subject: 4 color printing special  request add...     1\n",
       "4  Subject: do not have money , get software cds ...     1"
      ],
      "text/html": [
       "<div>\n",
       "<style scoped>\n",
       "    .dataframe tbody tr th:only-of-type {\n",
       "        vertical-align: middle;\n",
       "    }\n",
       "\n",
       "    .dataframe tbody tr th {\n",
       "        vertical-align: top;\n",
       "    }\n",
       "\n",
       "    .dataframe thead th {\n",
       "        text-align: right;\n",
       "    }\n",
       "</style>\n",
       "<table border=\"1\" class=\"dataframe\">\n",
       "  <thead>\n",
       "    <tr style=\"text-align: right;\">\n",
       "      <th></th>\n",
       "      <th>text</th>\n",
       "      <th>spam</th>\n",
       "    </tr>\n",
       "  </thead>\n",
       "  <tbody>\n",
       "    <tr>\n",
       "      <th>0</th>\n",
       "      <td>Subject: naturally irresistible your corporate...</td>\n",
       "      <td>1</td>\n",
       "    </tr>\n",
       "    <tr>\n",
       "      <th>1</th>\n",
       "      <td>Subject: the stock trading gunslinger  fanny i...</td>\n",
       "      <td>1</td>\n",
       "    </tr>\n",
       "    <tr>\n",
       "      <th>2</th>\n",
       "      <td>Subject: unbelievable new homes made easy  im ...</td>\n",
       "      <td>1</td>\n",
       "    </tr>\n",
       "    <tr>\n",
       "      <th>3</th>\n",
       "      <td>Subject: 4 color printing special  request add...</td>\n",
       "      <td>1</td>\n",
       "    </tr>\n",
       "    <tr>\n",
       "      <th>4</th>\n",
       "      <td>Subject: do not have money , get software cds ...</td>\n",
       "      <td>1</td>\n",
       "    </tr>\n",
       "  </tbody>\n",
       "</table>\n",
       "</div>"
      ]
     },
     "execution_count": 5,
     "metadata": {},
     "output_type": "execute_result"
    }
   ],
   "execution_count": 5
  },
  {
   "metadata": {},
   "cell_type": "markdown",
   "source": "##### Visualisation of if sample emails are spam or ham.",
   "id": "923cfbae32e221c7"
  },
  {
   "metadata": {
    "ExecuteTime": {
     "end_time": "2024-07-26T20:21:27.694854Z",
     "start_time": "2024-07-26T20:21:27.471083Z"
    }
   },
   "cell_type": "code",
   "source": [
    "sns.countplot(data=data, x='spam')\n",
    "plt.xlabel('Category')\n",
    "plt.ylabel('count')\n",
    "plt.title('Distribution of mails')\n",
    "plt.show()"
   ],
   "id": "f79e20c0021cb809",
   "outputs": [
    {
     "data": {
      "text/plain": [
       "<Figure size 640x480 with 1 Axes>"
      ],
      "image/png": "[encoded data removed]"
     },
     "metadata": {},
     "output_type": "display_data"
    }
   ],
   "execution_count": 7
  },
  {
   "metadata": {
    "ExecuteTime": {
     "end_time": "2024-07-26T20:22:11.356631Z",
     "start_time": "2024-07-26T20:22:11.279521Z"
    }
   },
   "cell_type": "code",
   "source": [
    "plt.pie(data['spam'].value_counts(),labels=['ham','spam'],autopct='%0.2f')\n",
    "plt.show()"
   ],
   "id": "632bff0820a27078",
   "outputs": [
    {
     "data": {
      "text/plain": [
       "<Figure size 640x480 with 1 Axes>"
      ],
      "image/png": "[encoded data removed]"
     },
     "metadata": {},
     "output_type": "display_data"
    }
   ],
   "execution_count": 8
  },
  {
   "metadata": {},
   "cell_type": "markdown",
   "source": [
    "## Data Preprocessing\n",
    "##### We want handle missing data \n",
    "##### Convert categorical data into numerical or boolean\n",
    "##### Drop duplicate data\n",
    "##### Prepare the data set according to our problem\n",
    "##### Divide data as features(independent) and target(dependent)"
   ],
   "id": "ac9ae3788126fcdb"
  },
  {
   "metadata": {
    "ExecuteTime": {
     "end_time": "2024-07-25T19:28:50.722736Z",
     "start_time": "2024-07-25T19:28:50.708265Z"
    }
   },
   "cell_type": "code",
   "source": "data.head()",
   "id": "58a1117ec0a250d0",
   "outputs": [
    {
     "data": {
      "text/plain": [
       "                                                text  spam\n",
       "0  Subject: naturally irresistible your corporate...     1\n",
       "1  Subject: the stock trading gunslinger  fanny i...     1\n",
       "2  Subject: unbelievable new homes made easy  im ...     1\n",
       "3  Subject: 4 color printing special  request add...     1\n",
       "4  Subject: do not have money , get software cds ...     1"
      ],
      "text/html": [
       "<div>\n",
       "<style scoped>\n",
       "    .dataframe tbody tr th:only-of-type {\n",
       "        vertical-align: middle;\n",
       "    }\n",
       "\n",
       "    .dataframe tbody tr th {\n",
       "        vertical-align: top;\n",
       "    }\n",
       "\n",
       "    .dataframe thead th {\n",
       "        text-align: right;\n",
       "    }\n",
       "</style>\n",
       "<table border=\"1\" class=\"dataframe\">\n",
       "  <thead>\n",
       "    <tr style=\"text-align: right;\">\n",
       "      <th></th>\n",
       "      <th>text</th>\n",
       "      <th>spam</th>\n",
       "    </tr>\n",
       "  </thead>\n",
       "  <tbody>\n",
       "    <tr>\n",
       "      <th>0</th>\n",
       "      <td>Subject: naturally irresistible your corporate...</td>\n",
       "      <td>1</td>\n",
       "    </tr>\n",
       "    <tr>\n",
       "      <th>1</th>\n",
       "      <td>Subject: the stock trading gunslinger  fanny i...</td>\n",
       "      <td>1</td>\n",
       "    </tr>\n",
       "    <tr>\n",
       "      <th>2</th>\n",
       "      <td>Subject: unbelievable new homes made easy  im ...</td>\n",
       "      <td>1</td>\n",
       "    </tr>\n",
       "    <tr>\n",
       "      <th>3</th>\n",
       "      <td>Subject: 4 color printing special  request add...</td>\n",
       "      <td>1</td>\n",
       "    </tr>\n",
       "    <tr>\n",
       "      <th>4</th>\n",
       "      <td>Subject: do not have money , get software cds ...</td>\n",
       "      <td>1</td>\n",
       "    </tr>\n",
       "  </tbody>\n",
       "</table>\n",
       "</div>"
      ]
     },
     "execution_count": 4,
     "metadata": {},
     "output_type": "execute_result"
    }
   ],
   "execution_count": 4
  },
  {
   "metadata": {},
   "cell_type": "markdown",
   "source": "##### Check missing values",
   "id": "b744f64925f68ea5"
  },
  {
   "metadata": {
    "ExecuteTime": {
     "end_time": "2024-07-25T19:28:50.735461Z",
     "start_time": "2024-07-25T19:28:50.722736Z"
    }
   },
   "cell_type": "code",
   "source": [
    "# Check the missing data and get the total sum of this data\n",
    "data.isnull().sum()"
   ],
   "id": "19c31ce3fc434102",
   "outputs": [
    {
     "data": {
      "text/plain": [
       "text    0\n",
       "spam    0\n",
       "dtype: int64"
      ]
     },
     "execution_count": 5,
     "metadata": {},
     "output_type": "execute_result"
    }
   ],
   "execution_count": 5
  },
  {
   "metadata": {},
   "cell_type": "markdown",
   "source": "##### Find duplicate datasets and drop them",
   "id": "da15e49a185299d7"
  },
  {
   "metadata": {
    "ExecuteTime": {
     "end_time": "2024-07-26T20:32:46.274199Z",
     "start_time": "2024-07-26T20:32:46.238077Z"
    }
   },
   "cell_type": "code",
   "source": "print(\"Duplicate row count : \",data.duplicated().sum())",
   "id": "9a51d2ac63b8e2d2",
   "outputs": [
    {
     "name": "stdout",
     "output_type": "stream",
     "text": [
      "Duplicate row count :  33\n"
     ]
    }
   ],
   "execution_count": 12
  },
  {
   "metadata": {
    "ExecuteTime": {
     "end_time": "2024-07-26T20:32:46.989960Z",
     "start_time": "2024-07-26T20:32:46.955410Z"
    }
   },
   "cell_type": "code",
   "source": "data.drop_duplicates(inplace=True)",
   "id": "c9129592393dc724",
   "outputs": [],
   "execution_count": 13
  },
  {
   "metadata": {
    "ExecuteTime": {
     "end_time": "2024-07-26T20:32:47.330895Z",
     "start_time": "2024-07-26T20:32:47.293846Z"
    }
   },
   "cell_type": "code",
   "source": "data.duplicated().sum()",
   "id": "9cedd8b24a983393",
   "outputs": [
    {
     "data": {
      "text/plain": [
       "0"
      ]
     },
     "execution_count": 14,
     "metadata": {},
     "output_type": "execute_result"
    }
   ],
   "execution_count": 14
  },
  {
   "metadata": {},
   "cell_type": "markdown",
   "source": "##### Separate target value and features",
   "id": "2fd2062a613cd369"
  },
  {
   "metadata": {
    "ExecuteTime": {
     "end_time": "2024-07-26T20:32:47.868287Z",
     "start_time": "2024-07-26T20:32:47.859925Z"
    }
   },
   "cell_type": "code",
   "source": [
    "independent = data[\"text\"]\n",
    "dependent = data[\"spam\"]"
   ],
   "id": "9aeebea085654f8c",
   "outputs": [],
   "execution_count": 15
  },
  {
   "metadata": {
    "ExecuteTime": {
     "end_time": "2024-07-26T20:32:48.200270Z",
     "start_time": "2024-07-26T20:32:48.190306Z"
    }
   },
   "cell_type": "code",
   "source": "independent.head()",
   "id": "2bafbb7a80268309",
   "outputs": [
    {
     "data": {
      "text/plain": [
       "0    Subject: naturally irresistible your corporate...\n",
       "1    Subject: the stock trading gunslinger  fanny i...\n",
       "2    Subject: unbelievable new homes made easy  im ...\n",
       "3    Subject: 4 color printing special  request add...\n",
       "4    Subject: do not have money , get software cds ...\n",
       "Name: text, dtype: object"
      ]
     },
     "execution_count": 16,
     "metadata": {},
     "output_type": "execute_result"
    }
   ],
   "execution_count": 16
  },
  {
   "metadata": {
    "ExecuteTime": {
     "end_time": "2024-07-26T20:32:48.480521Z",
     "start_time": "2024-07-26T20:32:48.467763Z"
    }
   },
   "cell_type": "code",
   "source": "dependent.head()",
   "id": "c3ceec31bb7b069e",
   "outputs": [
    {
     "data": {
      "text/plain": [
       "0    1\n",
       "1    1\n",
       "2    1\n",
       "3    1\n",
       "4    1\n",
       "Name: spam, dtype: int64"
      ]
     },
     "execution_count": 17,
     "metadata": {},
     "output_type": "execute_result"
    }
   ],
   "execution_count": 17
  },
  {
   "metadata": {},
   "cell_type": "markdown",
   "source": [
    "\n",
    "## Split the Data into training and testing\n",
    "##### training data for train model\n",
    "##### testing data for test our model accuracy"
   ],
   "id": "43a637a94937af88"
  },
  {
   "metadata": {
    "ExecuteTime": {
     "end_time": "2024-07-26T20:32:48.871789Z",
     "start_time": "2024-07-26T20:32:48.858824Z"
    }
   },
   "cell_type": "code",
   "source": "x_train, x_test, y_train, y_test = train_test_split(independent, dependent, test_size=0.2, random_state=42)",
   "id": "3c9b657ae0d49fdf",
   "outputs": [],
   "execution_count": 18
  },
  {
   "metadata": {},
   "cell_type": "markdown",
   "source": [
    "## Feature Extraction\n",
    "##### Convert the preprocessed text into numerical features"
   ],
   "id": "58f9e6045bcf078c"
  },
  {
   "metadata": {
    "ExecuteTime": {
     "end_time": "2024-07-26T20:32:49.228593Z",
     "start_time": "2024-07-26T20:32:49.218985Z"
    }
   },
   "cell_type": "code",
   "source": "feature_extraction = TfidfVectorizer(min_df = 1, stop_words='english', lowercase=True)",
   "id": "c9071374ca89a9d2",
   "outputs": [],
   "execution_count": 19
  },
  {
   "metadata": {
    "ExecuteTime": {
     "end_time": "2024-07-26T20:32:50.634287Z",
     "start_time": "2024-07-26T20:32:49.390573Z"
    }
   },
   "cell_type": "code",
   "source": [
    "x_train_features = feature_extraction.fit_transform(x_train)\n",
    "x_test_features = feature_extraction.transform(x_test)"
   ],
   "id": "7af7b977cb637d27",
   "outputs": [],
   "execution_count": 20
  },
  {
   "metadata": {
    "ExecuteTime": {
     "end_time": "2024-07-26T20:32:50.645247Z",
     "start_time": "2024-07-26T20:32:50.634287Z"
    }
   },
   "cell_type": "code",
   "source": "print(x_train_features)",
   "id": "f7a64990ab3bb568",
   "outputs": [
    {
     "name": "stdout",
     "output_type": "stream",
     "text": [
      "  (0, 30703)\t0.4014836336292207\n",
      "  (0, 25552)\t0.12988009839298162\n",
      "  (0, 32348)\t0.36805897799019793\n",
      "  (0, 27405)\t0.2027266276127113\n",
      "  (0, 32030)\t0.2487666506269081\n",
      "  (0, 24449)\t0.25622760622305524\n",
      "  (0, 3425)\t0.36062558789029864\n",
      "  (0, 25314)\t0.21283968400983308\n",
      "  (0, 25201)\t0.2016951105281913\n",
      "  (0, 17531)\t0.13235959995238933\n",
      "  (0, 10429)\t0.18104981492432806\n",
      "  (0, 8631)\t0.49918257052218684\n",
      "  (0, 29200)\t0.048221584933839566\n",
      "  (1, 20357)\t0.22296204096952915\n",
      "  (1, 18618)\t0.1405657503723137\n",
      "  (1, 20853)\t0.22791703805902366\n",
      "  (1, 20359)\t0.24318963701670282\n",
      "  (1, 14331)\t0.19838780993139282\n",
      "  (1, 12683)\t0.14258332128599505\n",
      "  (1, 23663)\t0.3095508665548617\n",
      "  (1, 19112)\t0.3095508665548617\n",
      "  (1, 29008)\t0.240562278094169\n",
      "  (1, 19860)\t0.2147439502398577\n",
      "  (1, 18598)\t0.23367884137231507\n",
      "  (1, 14783)\t0.20334280702088733\n",
      "  :\t:\n",
      "  (4555, 16021)\t0.13457083215593485\n",
      "  (4555, 15906)\t0.14565064876443573\n",
      "  (4555, 26885)\t0.15960956684904778\n",
      "  (4555, 32499)\t0.10495780510374866\n",
      "  (4555, 32960)\t0.0872244273948734\n",
      "  (4555, 21860)\t0.09564614655124225\n",
      "  (4555, 9790)\t0.11547836853566608\n",
      "  (4555, 16683)\t0.0866401717263013\n",
      "  (4555, 23791)\t0.12740141639908373\n",
      "  (4555, 30540)\t0.12693824954709998\n",
      "  (4555, 14467)\t0.07947075596945016\n",
      "  (4555, 17035)\t0.13280724026087742\n",
      "  (4555, 32944)\t0.14878888739266571\n",
      "  (4555, 24350)\t0.1178423365497015\n",
      "  (4555, 18796)\t0.09340273842835833\n",
      "  (4555, 8325)\t0.1706138448539032\n",
      "  (4555, 17728)\t0.11671366089271774\n",
      "  (4555, 23021)\t0.13613275383628445\n",
      "  (4555, 28825)\t0.1003375931736375\n",
      "  (4555, 28330)\t0.14183148736337253\n",
      "  (4555, 6747)\t0.15098075528042876\n",
      "  (4555, 18920)\t0.0770358600419427\n",
      "  (4555, 15243)\t0.07963292968024442\n",
      "  (4555, 29270)\t0.1138661686625418\n",
      "  (4555, 29200)\t0.027326190064041588\n"
     ]
    }
   ],
   "execution_count": 21
  },
  {
   "metadata": {},
   "cell_type": "markdown",
   "source": [
    "## Handle class imbalance problem\n",
    "##### Handling class imbalance is crucial because it can lead to biased models that perform poorly on the minority class."
   ],
   "id": "a1248bd96c5821e6"
  },
  {
   "metadata": {
    "ExecuteTime": {
     "end_time": "2024-07-26T20:32:50.649914Z",
     "start_time": "2024-07-26T20:32:50.646329Z"
    }
   },
   "cell_type": "code",
   "source": "smt = SMOTE(random_state=42)",
   "id": "2ca8061b90ae6244",
   "outputs": [],
   "execution_count": 22
  },
  {
   "metadata": {
    "ExecuteTime": {
     "end_time": "2024-07-26T20:32:50.657661Z",
     "start_time": "2024-07-26T20:32:50.651944Z"
    }
   },
   "cell_type": "code",
   "source": "y_train.value_counts()",
   "id": "952d18d51cd3370d",
   "outputs": [
    {
     "data": {
      "text/plain": [
       "spam\n",
       "0    3484\n",
       "1    1072\n",
       "Name: count, dtype: int64"
      ]
     },
     "execution_count": 23,
     "metadata": {},
     "output_type": "execute_result"
    }
   ],
   "execution_count": 23
  },
  {
   "metadata": {
    "ExecuteTime": {
     "end_time": "2024-07-26T20:32:50.770390Z",
     "start_time": "2024-07-26T20:32:50.658833Z"
    }
   },
   "cell_type": "code",
   "source": "new_x_train,  new_y_train = smt.fit_resample(x_train_features, y_train)",
   "id": "a294f30933771545",
   "outputs": [],
   "execution_count": 24
  },
  {
   "metadata": {
    "ExecuteTime": {
     "end_time": "2024-07-26T20:32:50.778570Z",
     "start_time": "2024-07-26T20:32:50.771820Z"
    }
   },
   "cell_type": "code",
   "source": "new_y_train.value_counts()",
   "id": "346560734db94fed",
   "outputs": [
    {
     "data": {
      "text/plain": [
       "spam\n",
       "0    3484\n",
       "1    3484\n",
       "Name: count, dtype: int64"
      ]
     },
     "execution_count": 25,
     "metadata": {},
     "output_type": "execute_result"
    }
   ],
   "execution_count": 25
  },
  {
   "metadata": {},
   "cell_type": "markdown",
   "source": "## Evaluate the Model",
   "id": "fae27b2900b48a19"
  },
  {
   "metadata": {
    "ExecuteTime": {
     "end_time": "2024-07-26T20:32:50.841046Z",
     "start_time": "2024-07-26T20:32:50.832823Z"
    }
   },
   "cell_type": "code",
   "source": "model = LogisticRegression()",
   "id": "b47a1214d423a8dc",
   "outputs": [],
   "execution_count": 26
  },
  {
   "metadata": {
    "ExecuteTime": {
     "end_time": "2024-07-26T20:32:51.646030Z",
     "start_time": "2024-07-26T20:32:51.121011Z"
    }
   },
   "cell_type": "code",
   "source": "model.fit(x_train_features, y_train)",
   "id": "58557e4d7e7e712c",
   "outputs": [
    {
     "data": {
      "text/plain": [
       "LogisticRegression()"
      ],
      "text/html": [
       "<style>#sk-container-id-1 {\n",
       "  /* Definition of color scheme common for light and dark mode */\n",
       "  --sklearn-color-text: black;\n",
       "  --sklearn-color-line: gray;\n",
       "  /* Definition of color scheme for unfitted estimators */\n",
       "  --sklearn-color-unfitted-level-0: #fff5e6;\n",
       "  --sklearn-color-unfitted-level-1: #f6e4d2;\n",
       "  --sklearn-color-unfitted-level-2: #ffe0b3;\n",
       "  --sklearn-color-unfitted-level-3: chocolate;\n",
       "  /* Definition of color scheme for fitted estimators */\n",
       "  --sklearn-color-fitted-level-0: #f0f8ff;\n",
       "  --sklearn-color-fitted-level-1: #d4ebff;\n",
       "  --sklearn-color-fitted-level-2: #b3dbfd;\n",
       "  --sklearn-color-fitted-level-3: cornflowerblue;\n",
       "\n",
       "  /* Specific color for light theme */\n",
       "  --sklearn-color-text-on-default-background: var(--sg-text-color, var(--theme-code-foreground, var(--jp-content-font-color1, black)));\n",
       "  --sklearn-color-background: var(--sg-background-color, var(--theme-background, var(--jp-layout-color0, white)));\n",
       "  --sklearn-color-border-box: var(--sg-text-color, var(--theme-code-foreground, var(--jp-content-font-color1, black)));\n",
       "  --sklearn-color-icon: #696969;\n",
       "\n",
       "  @media (prefers-color-scheme: dark) {\n",
       "    /* Redefinition of color scheme for dark theme */\n",
       "    --sklearn-color-text-on-default-background: var(--sg-text-color, var(--theme-code-foreground, var(--jp-content-font-color1, white)));\n",
       "    --sklearn-color-background: var(--sg-background-color, var(--theme-background, var(--jp-layout-color0, #111)));\n",
       "    --sklearn-color-border-box: var(--sg-text-color, var(--theme-code-foreground, var(--jp-content-font-color1, white)));\n",
       "    --sklearn-color-icon: #878787;\n",
       "  }\n",
       "}\n",
       "\n",
       "#sk-container-id-1 {\n",
       "  color: var(--sklearn-color-text);\n",
       "}\n",
       "\n",
       "#sk-container-id-1 pre {\n",
       "  padding: 0;\n",
       "}\n",
       "\n",
       "#sk-container-id-1 input.sk-hidden--visually {\n",
       "  border: 0;\n",
       "  clip: rect(1px 1px 1px 1px);\n",
       "  clip: rect(1px, 1px, 1px, 1px);\n",
       "  height: 1px;\n",
       "  margin: -1px;\n",
       "  overflow: hidden;\n",
       "  padding: 0;\n",
       "  position: absolute;\n",
       "  width: 1px;\n",
       "}\n",
       "\n",
       "#sk-container-id-1 div.sk-dashed-wrapped {\n",
       "  border: 1px dashed var(--sklearn-color-line);\n",
       "  margin: 0 0.4em 0.5em 0.4em;\n",
       "  box-sizing: border-box;\n",
       "  padding-bottom: 0.4em;\n",
       "  background-color: var(--sklearn-color-background);\n",
       "}\n",
       "\n",
       "#sk-container-id-1 div.sk-container {\n",
       "  /* jupyter's `normalize.less` sets `[hidden] { display: none; }`\n",
       "     but bootstrap.min.css set `[hidden] { display: none !important; }`\n",
       "     so we also need the `!important` here to be able to override the\n",
       "     default hidden behavior on the sphinx rendered scikit-learn.org.\n",
       "     See: https://github.com/scikit-learn/scikit-learn/issues/21755 */\n",
       "  display: inline-block !important;\n",
       "  position: relative;\n",
       "}\n",
       "\n",
       "#sk-container-id-1 div.sk-text-repr-fallback {\n",
       "  display: none;\n",
       "}\n",
       "\n",
       "div.sk-parallel-item,\n",
       "div.sk-serial,\n",
       "div.sk-item {\n",
       "  /* draw centered vertical line to link estimators */\n",
       "  background-image: linear-gradient(var(--sklearn-color-text-on-default-background), var(--sklearn-color-text-on-default-background));\n",
       "  background-size: 2px 100%;\n",
       "  background-repeat: no-repeat;\n",
       "  background-position: center center;\n",
       "}\n",
       "\n",
       "/* Parallel-specific style estimator block */\n",
       "\n",
       "#sk-container-id-1 div.sk-parallel-item::after {\n",
       "  content: \"\";\n",
       "  width: 100%;\n",
       "  border-bottom: 2px solid var(--sklearn-color-text-on-default-background);\n",
       "  flex-grow: 1;\n",
       "}\n",
       "\n",
       "#sk-container-id-1 div.sk-parallel {\n",
       "  display: flex;\n",
       "  align-items: stretch;\n",
       "  justify-content: center;\n",
       "  background-color: var(--sklearn-color-background);\n",
       "  position: relative;\n",
       "}\n",
       "\n",
       "#sk-container-id-1 div.sk-parallel-item {\n",
       "  display: flex;\n",
       "  flex-direction: column;\n",
       "}\n",
       "\n",
       "#sk-container-id-1 div.sk-parallel-item:first-child::after {\n",
       "  align-self: flex-end;\n",
       "  width: 50%;\n",
       "}\n",
       "\n",
       "#sk-container-id-1 div.sk-parallel-item:last-child::after {\n",
       "  align-self: flex-start;\n",
       "  width: 50%;\n",
       "}\n",
       "\n",
       "#sk-container-id-1 div.sk-parallel-item:only-child::after {\n",
       "  width: 0;\n",
       "}\n",
       "\n",
       "/* Serial-specific style estimator block */\n",
       "\n",
       "#sk-container-id-1 div.sk-serial {\n",
       "  display: flex;\n",
       "  flex-direction: column;\n",
       "  align-items: center;\n",
       "  background-color: var(--sklearn-color-background);\n",
       "  padding-right: 1em;\n",
       "  padding-left: 1em;\n",
       "}\n",
       "\n",
       "\n",
       "/* Toggleable style: style used for estimator/Pipeline/ColumnTransformer box that is\n",
       "clickable and can be expanded/collapsed.\n",
       "- Pipeline and ColumnTransformer use this feature and define the default style\n",
       "- Estimators will overwrite some part of the style using the `sk-estimator` class\n",
       "*/\n",
       "\n",
       "/* Pipeline and ColumnTransformer style (default) */\n",
       "\n",
       "#sk-container-id-1 div.sk-toggleable {\n",
       "  /* Default theme specific background. It is overwritten whether we have a\n",
       "  specific estimator or a Pipeline/ColumnTransformer */\n",
       "  background-color: var(--sklearn-color-background);\n",
       "}\n",
       "\n",
       "/* Toggleable label */\n",
       "#sk-container-id-1 label.sk-toggleable__label {\n",
       "  cursor: pointer;\n",
       "  display: block;\n",
       "  width: 100%;\n",
       "  margin-bottom: 0;\n",
       "  padding: 0.5em;\n",
       "  box-sizing: border-box;\n",
       "  text-align: center;\n",
       "}\n",
       "\n",
       "#sk-container-id-1 label.sk-toggleable__label-arrow:before {\n",
       "  /* Arrow on the left of the label */\n",
       "  content: \"▸\";\n",
       "  float: left;\n",
       "  margin-right: 0.25em;\n",
       "  color: var(--sklearn-color-icon);\n",
       "}\n",
       "\n",
       "#sk-container-id-1 label.sk-toggleable__label-arrow:hover:before {\n",
       "  color: var(--sklearn-color-text);\n",
       "}\n",
       "\n",
       "/* Toggleable content - dropdown */\n",
       "\n",
       "#sk-container-id-1 div.sk-toggleable__content {\n",
       "  max-height: 0;\n",
       "  max-width: 0;\n",
       "  overflow: hidden;\n",
       "  text-align: left;\n",
       "  /* unfitted */\n",
       "  background-color: var(--sklearn-color-unfitted-level-0);\n",
       "}\n",
       "\n",
       "#sk-container-id-1 div.sk-toggleable__content.fitted {\n",
       "  /* fitted */\n",
       "  background-color: var(--sklearn-color-fitted-level-0);\n",
       "}\n",
       "\n",
       "#sk-container-id-1 div.sk-toggleable__content pre {\n",
       "  margin: 0.2em;\n",
       "  border-radius: 0.25em;\n",
       "  color: var(--sklearn-color-text);\n",
       "  /* unfitted */\n",
       "  background-color: var(--sklearn-color-unfitted-level-0);\n",
       "}\n",
       "\n",
       "#sk-container-id-1 div.sk-toggleable__content.fitted pre {\n",
       "  /* unfitted */\n",
       "  background-color: var(--sklearn-color-fitted-level-0);\n",
       "}\n",
       "\n",
       "#sk-container-id-1 input.sk-toggleable__control:checked~div.sk-toggleable__content {\n",
       "  /* Expand drop-down */\n",
       "  max-height: 200px;\n",
       "  max-width: 100%;\n",
       "  overflow: auto;\n",
       "}\n",
       "\n",
       "#sk-container-id-1 input.sk-toggleable__control:checked~label.sk-toggleable__label-arrow:before {\n",
       "  content: \"▾\";\n",
       "}\n",
       "\n",
       "/* Pipeline/ColumnTransformer-specific style */\n",
       "\n",
       "#sk-container-id-1 div.sk-label input.sk-toggleable__control:checked~label.sk-toggleable__label {\n",
       "  color: var(--sklearn-color-text);\n",
       "  background-color: var(--sklearn-color-unfitted-level-2);\n",
       "}\n",
       "\n",
       "#sk-container-id-1 div.sk-label.fitted input.sk-toggleable__control:checked~label.sk-toggleable__label {\n",
       "  background-color: var(--sklearn-color-fitted-level-2);\n",
       "}\n",
       "\n",
       "/* Estimator-specific style */\n",
       "\n",
       "/* Colorize estimator box */\n",
       "#sk-container-id-1 div.sk-estimator input.sk-toggleable__control:checked~label.sk-toggleable__label {\n",
       "  /* unfitted */\n",
       "  background-color: var(--sklearn-color-unfitted-level-2);\n",
       "}\n",
       "\n",
       "#sk-container-id-1 div.sk-estimator.fitted input.sk-toggleable__control:checked~label.sk-toggleable__label {\n",
       "  /* fitted */\n",
       "  background-color: var(--sklearn-color-fitted-level-2);\n",
       "}\n",
       "\n",
       "#sk-container-id-1 div.sk-label label.sk-toggleable__label,\n",
       "#sk-container-id-1 div.sk-label label {\n",
       "  /* The background is the default theme color */\n",
       "  color: var(--sklearn-color-text-on-default-background);\n",
       "}\n",
       "\n",
       "/* On hover, darken the color of the background */\n",
       "#sk-container-id-1 div.sk-label:hover label.sk-toggleable__label {\n",
       "  color: var(--sklearn-color-text);\n",
       "  background-color: var(--sklearn-color-unfitted-level-2);\n",
       "}\n",
       "\n",
       "/* Label box, darken color on hover, fitted */\n",
       "#sk-container-id-1 div.sk-label.fitted:hover label.sk-toggleable__label.fitted {\n",
       "  color: var(--sklearn-color-text);\n",
       "  background-color: var(--sklearn-color-fitted-level-2);\n",
       "}\n",
       "\n",
       "/* Estimator label */\n",
       "\n",
       "#sk-container-id-1 div.sk-label label {\n",
       "  font-family: monospace;\n",
       "  font-weight: bold;\n",
       "  display: inline-block;\n",
       "  line-height: 1.2em;\n",
       "}\n",
       "\n",
       "#sk-container-id-1 div.sk-label-container {\n",
       "  text-align: center;\n",
       "}\n",
       "\n",
       "/* Estimator-specific */\n",
       "#sk-container-id-1 div.sk-estimator {\n",
       "  font-family: monospace;\n",
       "  border: 1px dotted var(--sklearn-color-border-box);\n",
       "  border-radius: 0.25em;\n",
       "  box-sizing: border-box;\n",
       "  margin-bottom: 0.5em;\n",
       "  /* unfitted */\n",
       "  background-color: var(--sklearn-color-unfitted-level-0);\n",
       "}\n",
       "\n",
       "#sk-container-id-1 div.sk-estimator.fitted {\n",
       "  /* fitted */\n",
       "  background-color: var(--sklearn-color-fitted-level-0);\n",
       "}\n",
       "\n",
       "/* on hover */\n",
       "#sk-container-id-1 div.sk-estimator:hover {\n",
       "  /* unfitted */\n",
       "  background-color: var(--sklearn-color-unfitted-level-2);\n",
       "}\n",
       "\n",
       "#sk-container-id-1 div.sk-estimator.fitted:hover {\n",
       "  /* fitted */\n",
       "  background-color: var(--sklearn-color-fitted-level-2);\n",
       "}\n",
       "\n",
       "/* Specification for estimator info (e.g. \"i\" and \"?\") */\n",
       "\n",
       "/* Common style for \"i\" and \"?\" */\n",
       "\n",
       ".sk-estimator-doc-link,\n",
       "a:link.sk-estimator-doc-link,\n",
       "a:visited.sk-estimator-doc-link {\n",
       "  float: right;\n",
       "  font-size: smaller;\n",
       "  line-height: 1em;\n",
       "  font-family: monospace;\n",
       "  background-color: var(--sklearn-color-background);\n",
       "  border-radius: 1em;\n",
       "  height: 1em;\n",
       "  width: 1em;\n",
       "  text-decoration: none !important;\n",
       "  margin-left: 1ex;\n",
       "  /* unfitted */\n",
       "  border: var(--sklearn-color-unfitted-level-1) 1pt solid;\n",
       "  color: var(--sklearn-color-unfitted-level-1);\n",
       "}\n",
       "\n",
       ".sk-estimator-doc-link.fitted,\n",
       "a:link.sk-estimator-doc-link.fitted,\n",
       "a:visited.sk-estimator-doc-link.fitted {\n",
       "  /* fitted */\n",
       "  border: var(--sklearn-color-fitted-level-1) 1pt solid;\n",
       "  color: var(--sklearn-color-fitted-level-1);\n",
       "}\n",
       "\n",
       "/* On hover */\n",
       "div.sk-estimator:hover .sk-estimator-doc-link:hover,\n",
       ".sk-estimator-doc-link:hover,\n",
       "div.sk-label-container:hover .sk-estimator-doc-link:hover,\n",
       ".sk-estimator-doc-link:hover {\n",
       "  /* unfitted */\n",
       "  background-color: var(--sklearn-color-unfitted-level-3);\n",
       "  color: var(--sklearn-color-background);\n",
       "  text-decoration: none;\n",
       "}\n",
       "\n",
       "div.sk-estimator.fitted:hover .sk-estimator-doc-link.fitted:hover,\n",
       ".sk-estimator-doc-link.fitted:hover,\n",
       "div.sk-label-container:hover .sk-estimator-doc-link.fitted:hover,\n",
       ".sk-estimator-doc-link.fitted:hover {\n",
       "  /* fitted */\n",
       "  background-color: var(--sklearn-color-fitted-level-3);\n",
       "  color: var(--sklearn-color-background);\n",
       "  text-decoration: none;\n",
       "}\n",
       "\n",
       "/* Span, style for the box shown on hovering the info icon */\n",
       ".sk-estimator-doc-link span {\n",
       "  display: none;\n",
       "  z-index: 9999;\n",
       "  position: relative;\n",
       "  font-weight: normal;\n",
       "  right: .2ex;\n",
       "  padding: .5ex;\n",
       "  margin: .5ex;\n",
       "  width: min-content;\n",
       "  min-width: 20ex;\n",
       "  max-width: 50ex;\n",
       "  color: var(--sklearn-color-text);\n",
       "  box-shadow: 2pt 2pt 4pt #999;\n",
       "  /* unfitted */\n",
       "  background: var(--sklearn-color-unfitted-level-0);\n",
       "  border: .5pt solid var(--sklearn-color-unfitted-level-3);\n",
       "}\n",
       "\n",
       ".sk-estimator-doc-link.fitted span {\n",
       "  /* fitted */\n",
       "  background: var(--sklearn-color-fitted-level-0);\n",
       "  border: var(--sklearn-color-fitted-level-3);\n",
       "}\n",
       "\n",
       ".sk-estimator-doc-link:hover span {\n",
       "  display: block;\n",
       "}\n",
       "\n",
       "/* \"?\"-specific style due to the `<a>` HTML tag */\n",
       "\n",
       "#sk-container-id-1 a.estimator_doc_link {\n",
       "  float: right;\n",
       "  font-size: 1rem;\n",
       "  line-height: 1em;\n",
       "  font-family: monospace;\n",
       "  background-color: var(--sklearn-color-background);\n",
       "  border-radius: 1rem;\n",
       "  height: 1rem;\n",
       "  width: 1rem;\n",
       "  text-decoration: none;\n",
       "  /* unfitted */\n",
       "  color: var(--sklearn-color-unfitted-level-1);\n",
       "  border: var(--sklearn-color-unfitted-level-1) 1pt solid;\n",
       "}\n",
       "\n",
       "#sk-container-id-1 a.estimator_doc_link.fitted {\n",
       "  /* fitted */\n",
       "  border: var(--sklearn-color-fitted-level-1) 1pt solid;\n",
       "  color: var(--sklearn-color-fitted-level-1);\n",
       "}\n",
       "\n",
       "/* On hover */\n",
       "#sk-container-id-1 a.estimator_doc_link:hover {\n",
       "  /* unfitted */\n",
       "  background-color: var(--sklearn-color-unfitted-level-3);\n",
       "  color: var(--sklearn-color-background);\n",
       "  text-decoration: none;\n",
       "}\n",
       "\n",
       "#sk-container-id-1 a.estimator_doc_link.fitted:hover {\n",
       "  /* fitted */\n",
       "  background-color: var(--sklearn-color-fitted-level-3);\n",
       "}\n",
       "</style><div id=\"sk-container-id-1\" class=\"sk-top-container\"><div class=\"sk-text-repr-fallback\"><pre>LogisticRegression()</pre><b>In a Jupyter environment, please rerun this cell to show the HTML representation or trust the notebook. <br />On GitHub, the HTML representation is unable to render, please try loading this page with nbviewer.org.</b></div><div class=\"sk-container\" hidden><div class=\"sk-item\"><div class=\"sk-estimator fitted sk-toggleable\"><input class=\"sk-toggleable__control sk-hidden--visually\" id=\"sk-estimator-id-1\" type=\"checkbox\" checked><label for=\"sk-estimator-id-1\" class=\"sk-toggleable__label fitted sk-toggleable__label-arrow fitted\">&nbsp;&nbsp;LogisticRegression<a class=\"sk-estimator-doc-link fitted\" rel=\"noreferrer\" target=\"_blank\" href=\"https://scikit-learn.org/1.4/modules/generated/sklearn.linear_model.LogisticRegression.html\">?<span>Documentation for LogisticRegression</span></a><span class=\"sk-estimator-doc-link fitted\">i<span>Fitted</span></span></label><div class=\"sk-toggleable__content fitted\"><pre>LogisticRegression()</pre></div> </div></div></div></div>"
      ]
     },
     "execution_count": 27,
     "metadata": {},
     "output_type": "execute_result"
    }
   ],
   "execution_count": 27
  },
  {
   "metadata": {},
   "cell_type": "markdown",
   "source": "",
   "id": "7da4e5a2a02ecfdc"
  },
  {
   "metadata": {},
   "cell_type": "markdown",
   "source": [
    "## Check model performance\n",
    "### Get accuracy score for get model accuracy"
   ],
   "id": "ac6ca0c74b9413f"
  },
  {
   "metadata": {},
   "cell_type": "markdown",
   "source": "",
   "id": "c364e0ecc832816a"
  },
  {
   "metadata": {
    "ExecuteTime": {
     "end_time": "2024-07-26T20:32:51.900348Z",
     "start_time": "2024-07-26T20:32:51.890591Z"
    }
   },
   "cell_type": "code",
   "source": [
    "prediction_train = model.predict(x_train_features)\n",
    "accuracy_train = accuracy_score(y_train, prediction_train)\n",
    "print(\"Accuracy on training data:\", accuracy_train)"
   ],
   "id": "c8d69f1ff8de3c0f",
   "outputs": [
    {
     "name": "stdout",
     "output_type": "stream",
     "text": [
      "Accuracy on training data: 0.996268656716418\n"
     ]
    }
   ],
   "execution_count": 28
  },
  {
   "metadata": {
    "ExecuteTime": {
     "end_time": "2024-07-26T20:32:51.909233Z",
     "start_time": "2024-07-26T20:32:51.901754Z"
    }
   },
   "cell_type": "code",
   "source": [
    "# prediction on test data\n",
    "\n",
    "prediction_on_test_data = model.predict(x_test_features)\n",
    "accuracy_on_test_data = accuracy_score(y_test, prediction_on_test_data)\n",
    "print(\"Accuracy on test data:\", accuracy_on_test_data)"
   ],
   "id": "59a2725d6db92362",
   "outputs": [
    {
     "name": "stdout",
     "output_type": "stream",
     "text": [
      "Accuracy on test data: 0.9771729587357331\n"
     ]
    }
   ],
   "execution_count": 29
  },
  {
   "metadata": {},
   "cell_type": "markdown",
   "source": "### Sample mail check using trained model",
   "id": "e128a09b3476846d"
  },
  {
   "metadata": {
    "ExecuteTime": {
     "end_time": "2024-07-26T20:44:47.993662Z",
     "start_time": "2024-07-26T20:44:47.969653Z"
    }
   },
   "cell_type": "code",
   "source": [
    "input_mail = [\"Are you looking for love? Join our dating site today and meet attractive singles in your area. Sign up now for a free trial and find your perfect match.\"]\n",
    "\n",
    "# convert text to feature vectors\n",
    "input_data_features = feature_extraction.transform(input_mail)\n",
    "\n",
    "# making prediction\n",
    "\n",
    "prediction = model.predict(input_data_features)\n",
    "print(prediction)\n",
    "\n",
    "\n",
    "if prediction[0]==1:\n",
    "  print('spam mail')\n",
    "\n",
    "else:\n",
    "  print('not spam')"
   ],
   "id": "c98ab3a433d9dbae",
   "outputs": [
    {
     "name": "stdout",
     "output_type": "stream",
     "text": [
      "[1]\n",
      "spam mail\n"
     ]
    }
   ],
   "execution_count": 47
  },
  {
   "metadata": {},
   "cell_type": "markdown",
   "source": [
    "### Get confusion matrix\n",
    "##### The confusion matrix is a performance measurement tool for machine learning classification problems. It is especially useful in evaluating the performance of a binary classifier like logistic regression in email spam detection. The confusion matrix shows the counts of true positive, true negative, false positive, and false negative predictions made by the model."
   ],
   "id": "ec07066c033bce1c"
  },
  {
   "metadata": {
    "ExecuteTime": {
     "end_time": "2024-07-26T20:32:52.195179Z",
     "start_time": "2024-07-26T20:32:52.185573Z"
    }
   },
   "cell_type": "code",
   "source": "y_predict = model.predict(x_test_features)",
   "id": "a7525ef4296f2b2a",
   "outputs": [],
   "execution_count": 32
  },
  {
   "metadata": {
    "ExecuteTime": {
     "end_time": "2024-07-26T20:32:52.474123Z",
     "start_time": "2024-07-26T20:32:52.467325Z"
    }
   },
   "cell_type": "code",
   "source": "y_predict_probability = model.predict_proba(x_test_features)",
   "id": "b767482d687d7712",
   "outputs": [],
   "execution_count": 33
  },
  {
   "metadata": {
    "ExecuteTime": {
     "end_time": "2024-07-26T20:32:52.630114Z",
     "start_time": "2024-07-26T20:32:52.624601Z"
    }
   },
   "cell_type": "code",
   "source": "y_predict_probability",
   "id": "380990ff8c824e27",
   "outputs": [
    {
     "data": {
      "text/plain": [
       "array([[0.95236688, 0.04763312],\n",
       "       [0.45325387, 0.54674613],\n",
       "       [0.98547493, 0.01452507],\n",
       "       ...,\n",
       "       [0.98342473, 0.01657527],\n",
       "       [0.2748284 , 0.7251716 ],\n",
       "       [0.07202948, 0.92797052]])"
      ]
     },
     "execution_count": 34,
     "metadata": {},
     "output_type": "execute_result"
    }
   ],
   "execution_count": 34
  },
  {
   "metadata": {
    "ExecuteTime": {
     "end_time": "2024-07-26T20:34:32.657283Z",
     "start_time": "2024-07-26T20:34:32.648775Z"
    }
   },
   "cell_type": "code",
   "source": "confusion_matrix(y_test, y_predict)",
   "id": "3a024cf48de4c3d7",
   "outputs": [
    {
     "data": {
      "text/plain": [
       "array([[840,   3],\n",
       "       [ 23, 273]], dtype=int64)"
      ]
     },
     "execution_count": 43,
     "metadata": {},
     "output_type": "execute_result"
    }
   ],
   "execution_count": 43
  },
  {
   "metadata": {
    "ExecuteTime": {
     "end_time": "2024-07-26T20:32:53.162624Z",
     "start_time": "2024-07-26T20:32:52.927300Z"
    }
   },
   "cell_type": "code",
   "source": [
    "# Plot data using heat map\n",
    "plt.figure(figsize=(10, 7))\n",
    "sns.heatmap(confusion_matrix(y_test, y_predict), annot=True, fmt='g', cmap='Blues')\n",
    "plt.xlabel('Predicted')\n",
    "plt.ylabel('Actual')\n",
    "plt.title('Confusion Matrix Heatmap')\n",
    "plt.show()"
   ],
   "id": "13ec170c62233c78",
   "outputs": [
    {
     "data": {
      "text/plain": [
       "<Figure size 1000x700 with 2 Axes>"
      ],
      "image/png": "[encoded data removed]"
     },
     "metadata": {},
     "output_type": "display_data"
    }
   ],
   "execution_count": 36
  },
  {
   "metadata": {
    "ExecuteTime": {
     "end_time": "2024-07-26T20:32:53.211092Z",
     "start_time": "2024-07-26T20:32:53.195225Z"
    }
   },
   "cell_type": "code",
   "source": "print(classification_report(y_test, y_predict))",
   "id": "2654618c9df66963",
   "outputs": [
    {
     "name": "stdout",
     "output_type": "stream",
     "text": [
      "              precision    recall  f1-score   support\n",
      "\n",
      "           0       0.97      1.00      0.98       843\n",
      "           1       0.99      0.92      0.95       296\n",
      "\n",
      "    accuracy                           0.98      1139\n",
      "   macro avg       0.98      0.96      0.97      1139\n",
      "weighted avg       0.98      0.98      0.98      1139\n",
      "\n"
     ]
    }
   ],
   "execution_count": 37
  },
  {
   "metadata": {},
   "cell_type": "markdown",
   "source": "##### The classification report provides precision, recall, and F1 score for each class (0: non-spam, 1: spam).",
   "id": "308230357bc7b8ea"
  },
  {
   "metadata": {},
   "cell_type": "markdown",
   "source": [
    "### Receiver Operating Characteristics (ROC Curve)\n",
    "##### The Receiver Operating Characteristics (ROC) curve is a graphical representation used to evaluate the performance of a binary classifier. It plots the True Positive Rate (TPR) against the False Positive Rate (FPR) at various threshold settings. The Area Under the Curve (AUC) of the ROC curve provides a single metric to summarize the overall performance of the classifier."
   ],
   "id": "b1ca815e41b2ccf4"
  },
  {
   "metadata": {
    "ExecuteTime": {
     "end_time": "2024-07-26T20:32:53.262035Z",
     "start_time": "2024-07-26T20:32:53.251935Z"
    }
   },
   "cell_type": "code",
   "source": "fpr, tpr , _ = roc_curve(y_test, y_predict_probability[:,1])",
   "id": "4dc07b3123a45db",
   "outputs": [],
   "execution_count": 38
  },
  {
   "metadata": {
    "ExecuteTime": {
     "end_time": "2024-07-26T20:32:53.738365Z",
     "start_time": "2024-07-26T20:32:53.547553Z"
    }
   },
   "cell_type": "code",
   "source": "plt.plot(fpr, tpr)",
   "id": "ded688a23ad25967",
   "outputs": [
    {
     "data": {
      "text/plain": [
       "[<matplotlib.lines.Line2D at 0x253379259d0>]"
      ]
     },
     "execution_count": 39,
     "metadata": {},
     "output_type": "execute_result"
    },
    {
     "data": {
      "text/plain": [
       "<Figure size 640x480 with 1 Axes>"
      ],
      "image/png": "[encoded data removed]"
     },
     "metadata": {},
     "output_type": "display_data"
    }
   ],
   "execution_count": 39
  },
  {
   "metadata": {
    "ExecuteTime": {
     "end_time": "2024-07-26T20:42:58.541708Z",
     "start_time": "2024-07-26T20:42:58.524572Z"
    }
   },
   "cell_type": "code",
   "source": "score = roc_auc_score(y_test, y_predict_probability[:,1])",
   "id": "7ddc4f04673f2ae3",
   "outputs": [],
   "execution_count": 45
  },
  {
   "metadata": {
    "ExecuteTime": {
     "end_time": "2024-07-26T20:42:59.139324Z",
     "start_time": "2024-07-26T20:42:59.129760Z"
    }
   },
   "cell_type": "code",
   "source": "score",
   "id": "ce1207025adb692b",
   "outputs": [
    {
     "data": {
      "text/plain": [
       "0.9987175787887531"
      ]
     },
     "execution_count": 46,
     "metadata": {},
     "output_type": "execute_result"
    }
   ],
   "execution_count": 46
  }
 ],
 "metadata": {
  "kernelspec": {
   "display_name": "Python 3",
   "language": "python",
   "name": "python3"
  },
  "language_info": {
   "codemirror_mode": {
    "name": "ipython",
    "version": 2
   },
   "file_extension": ".py",
   "mimetype": "text/x-python",
   "name": "python",
   "nbconvert_exporter": "python",
   "pygments_lexer": "ipython2",
   "version": "2.7.6"
  }
 },
 "nbformat": 4,
 "nbformat_minor": 5
}
